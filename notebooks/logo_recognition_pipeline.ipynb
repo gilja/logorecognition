{
 "cells": [
  {
   "cell_type": "code",
   "execution_count": null,
   "metadata": {},
   "outputs": [],
   "source": [
    "import sys\n",
    "import numpy as np\n",
    "from PIL import Image\n",
    "\n",
    "import matplotlib.pyplot as plt\n",
    "\n",
    "import os\n",
    "import glob\n",
    "\n",
    "import cv2\n",
    "import torch\n",
    "\n",
    "# adding global TF installation to PATH \n",
    "tensorflow_path = \"/usr/lib/python3.10/site-packages\"\n",
    "sys.path.append(tensorflow_path)\n",
    "import tensorflow as tf\n",
    "from tensorflow.keras.models import load_model\n",
    "from tensorflow.keras.preprocessing.image import load_img\n",
    "from tensorflow.keras.preprocessing.image import img_to_array"
   ]
  },
  {
   "cell_type": "markdown",
   "metadata": {},
   "source": [
    "# Loading object detection and classification models"
   ]
  },
  {
   "cell_type": "code",
   "execution_count": null,
   "metadata": {},
   "outputs": [],
   "source": [
    "detection_model = torch.hub.load('ultralytics/yolov5', 'custom', path='<PATH>/yolov5/runs/train/exp/weights/best.pt')\n",
    "classification_model = load_model('<PATH>/logorecognition/results/logo_classification/logo_classification.model')"
   ]
  },
  {
   "cell_type": "code",
   "execution_count": null,
   "metadata": {},
   "outputs": [],
   "source": [
    "HEIGHT = 224 # for Xception\n",
    "WIDTH =  224 # for Xception\n",
    "BS = 128\n",
    "\n",
    "classification_model.get_config\n",
    "\n",
    "def get_labels(directory):\n",
    "    \n",
    "    subdirs = os.listdir(directory)\n",
    "    return [subdir for subdir in subdirs if os.path.isdir(os.path.join(directory, subdir))]\n",
    "\n",
    "labels = get_labels(\"../data/logo_classification/test\")\n",
    "labels.sort() # it was sorted when training logo classification\n",
    "    \n",
    "def predimage(image):\n",
    "    \"\"\"\n",
    "    Function to predict the class of an image using a pre-trained model.\n",
    "    The image is first pre-processed (resized, converted to an array, and normalized)\n",
    "    before making predictions using the global 'classification_model' variable.\n",
    "    \n",
    "    Parameters:\n",
    "    ----------\n",
    "    image : ndarray\n",
    "        An input image, should be an array of pixel values.\n",
    "    \n",
    "    Returns:\n",
    "    -------\n",
    "    tuple\n",
    "        A tuple containing the predicted label and corresponding confidence score. \n",
    "        The label is a string and the confidence score is a float.\n",
    "\n",
    "    Notes:\n",
    "    -----\n",
    "    This function relies on several globally defined variables including the 'classification_model', \n",
    "    'WIDTH', 'HEIGHT', 'BS' (batch size), and 'labels' (class labels).\n",
    "    \"\"\"\n",
    "    \n",
    "    image = cv2.resize(image, (WIDTH,HEIGHT))\n",
    "    image = img_to_array(image)\n",
    "    image = np.expand_dims(image,axis=0)\n",
    "    image /= 255 \n",
    "    result = classification_model.predict(image, batch_size = BS)\n",
    "    y_class = result.argmax(axis=-1)\n",
    "    result = (result*100)\n",
    "    result = list(np.around(np.array(result),1))\n",
    "    \n",
    "    return (labels[y_class[0]], result[0][y_class[0]]) # return label and confidence"
   ]
  },
  {
   "cell_type": "markdown",
   "metadata": {},
   "source": [
    "# Load images"
   ]
  },
  {
   "cell_type": "code",
   "execution_count": null,
   "metadata": {},
   "outputs": [],
   "source": [
    "images_dir = '../data/new_images/'\n",
    "\n",
    "def get_filenames(dir):\n",
    "\n",
    "    filenames = set()\n",
    "    \n",
    "    for path in glob.glob(os.path.join(dir, '*.jpg')):\n",
    "        # Extract the filename\n",
    "        filename = os.path.split(path)[-1]        \n",
    "        filenames.add(filename)\n",
    "\n",
    "    return filenames\n",
    "\n",
    "images = get_filenames(images_dir)"
   ]
  },
  {
   "cell_type": "code",
   "execution_count": null,
   "metadata": {},
   "outputs": [],
   "source": [
    "for i, image in enumerate(images):\n",
    "    image_path = images_dir + image\n",
    "    \n",
    "    detection_model.conf = 0.7  # set confidence threshold\n",
    "    detection_model.iou = 0.4  # set IoU threshold\n",
    "    detection_model.augment = True  # set augment flag\n",
    "    detected_logos = detection_model(image_path)\n",
    "    \n",
    "    bounding_boxes = []\n",
    "    for x1, y1, x2, y2, conf, cls in detected_logos.xyxy[0]:\n",
    "        if conf > 0.7:\n",
    "            crop = cv2.imread(image_path)\n",
    "            x1, y1, x2, y2 = int(x1), int(y1), int(x2), int(y2)\n",
    "            crop = crop[y1:y2, x1:x2]  # crop to ROI\n",
    "            crop = cv2.resize(crop, (HEIGHT, WIDTH))\n",
    "            detection_model.augment = True\n",
    "            label, confidence = predimage(crop)\n",
    "            bounding_boxes.append((x1, y1, x2, y2, label, confidence))\n",
    "            \n",
    "    \n",
    "    img = cv2.imread(image_path)\n",
    "    for box in bounding_boxes:\n",
    "        \n",
    "        x1, y1, x2, y2, label, confidence = box\n",
    "        \n",
    "        if (confidence > 70):\n",
    "            #draw green bounding box with label\n",
    "            cv2.rectangle(img, (x1, y1), (x2, y2), (0, 255, 0), 2)\n",
    "            cv2.putText(img, label, (x1, y2-10), cv2.FONT_HERSHEY_SIMPLEX, 0.9, (0, 255, 0), 2)\n",
    "        else:\n",
    "            #draw red bounding box with no label\n",
    "            cv2.rectangle(img, (x1, y1), (x2, y2), (0, 0, 255), 2)\n",
    "            \n",
    "    cv2.imwrite(f'../results/{image}', img)"
   ]
  }
 ],
 "metadata": {
  "kernelspec": {
   "display_name": "logorecognition",
   "language": "python",
   "name": "python3"
  },
  "language_info": {
   "codemirror_mode": {
    "name": "ipython",
    "version": 3
   },
   "file_extension": ".py",
   "mimetype": "text/x-python",
   "name": "python",
   "nbconvert_exporter": "python",
   "pygments_lexer": "ipython3",
   "version": "3.10.12"
  },
  "orig_nbformat": 4
 },
 "nbformat": 4,
 "nbformat_minor": 2
}

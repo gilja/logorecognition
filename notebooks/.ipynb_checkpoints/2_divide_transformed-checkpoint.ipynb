{
 "cells": [
  {
   "cell_type": "code",
   "execution_count": null,
   "id": "51c9bbd7-1689-4300-8d19-ca7ed1611902",
   "metadata": {},
   "outputs": [],
   "source": [
    "import os\n",
    "import random\n",
    "import shutil\n",
    "import cv2"
   ]
  },
  {
   "cell_type": "code",
   "execution_count": null,
   "id": "506bb28e",
   "metadata": {},
   "outputs": [],
   "source": [
    "project_path=os.getcwd().rsplit('\\\\',1)[0]"
   ]
  },
  {
   "cell_type": "code",
   "execution_count": null,
   "id": "e3278afb",
   "metadata": {},
   "outputs": [],
   "source": [
    "project_path"
   ]
  },
  {
   "cell_type": "code",
   "execution_count": null,
   "id": "4daca42d-1d20-4214-9938-0566e791ca74",
   "metadata": {},
   "outputs": [],
   "source": [
    "originals_transformed_folder = project_path+\"/originals_transformed/\"\n",
    "untested_folder =project_path+ \"/untested/\"\n",
    "test_folder = project_path+\"/training_dataset/test/\"\n",
    "train_folder = project_path+\"/training_dataset/train/\""
   ]
  },
  {
   "cell_type": "code",
   "execution_count": null,
   "id": "b33dc82e-75d6-4e89-8534-2f984b98b3ce",
   "metadata": {},
   "outputs": [],
   "source": [
    "for class_folder_name in os.listdir(originals_transformed_folder):\n",
    "    class_folder_path = os.path.join(originals_transformed_folder, class_folder_name)\n",
    "    print(class_folder_path)\n",
    "    if not os.path.isdir(class_folder_path):\n",
    "        continue\n",
    "        \n",
    "    untested_class_folder = os.path.join(untested_folder, class_folder_name)\n",
    "    test_class_folder = os.path.join(test_folder, class_folder_name)\n",
    "    train_class_folder = os.path.join(train_folder, class_folder_name)\n",
    "\n",
    "    os.makedirs(untested_class_folder, exist_ok=True)\n",
    "    os.makedirs(test_class_folder, exist_ok=True)\n",
    "    os.makedirs(train_class_folder, exist_ok=True)\n",
    "\n",
    "    image_files = [\n",
    "        file for file in os.listdir(class_folder_path)\n",
    "        if file.lower().endswith(('.png', '.jpg', '.jpeg'))\n",
    "    ]\n",
    "\n",
    "    random.shuffle(image_files)\n",
    "    \n",
    "    num_images = len(image_files)\n",
    "    num_untested = int(num_images * 0.2)\n",
    "    num_test = int(num_images * 0.8 * 0.2)\n",
    "    num_train = int(num_images * 0.8 * 0.8)\n",
    "\n",
    "    for i, image_file in enumerate(image_files):\n",
    "        image_path = os.path.join(class_folder_path, image_file)\n",
    "\n",
    "        # Read and resize the image\n",
    "        image = cv2.imread(image_path)\n",
    "        #print(image_path)\n",
    "        image_resized = cv2.resize(image, (225, 225))\n",
    "\n",
    "        # Determine the destination folder based on the split ratios\n",
    "        if i < num_untested:\n",
    "            destination_folder = untested_class_folder\n",
    "        elif i < num_untested + num_test:\n",
    "            destination_folder = test_class_folder\n",
    "        else:\n",
    "            destination_folder = train_class_folder\n",
    "\n",
    "        # Save the resized image to the destination folder\n",
    "        output_path = os.path.join(destination_folder, image_file)\n",
    "        cv2.imwrite(output_path, image_resized)\n"
   ]
  },
  {
   "cell_type": "code",
   "execution_count": null,
   "id": "fb3801dd-ed6c-480a-a703-25cd750749b7",
   "metadata": {},
   "outputs": [],
   "source": []
  }
 ],
 "metadata": {
  "kernelspec": {
   "display_name": "Python 3 (ipykernel)",
   "language": "python",
   "name": "python3"
  },
  "language_info": {
   "codemirror_mode": {
    "name": "ipython",
    "version": 3
   },
   "file_extension": ".py",
   "mimetype": "text/x-python",
   "name": "python",
   "nbconvert_exporter": "python",
   "pygments_lexer": "ipython3",
   "version": "3.9.16"
  }
 },
 "nbformat": 4,
 "nbformat_minor": 5
}

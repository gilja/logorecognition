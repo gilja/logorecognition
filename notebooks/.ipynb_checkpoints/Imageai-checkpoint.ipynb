{
 "cells": [
  {
   "cell_type": "markdown",
   "id": "1bbecce8",
   "metadata": {},
   "source": [
    "https://imageai.readthedocs.io/en/latest/custom/"
   ]
  },
  {
   "cell_type": "code",
   "execution_count": null,
   "id": "6b266f10",
   "metadata": {},
   "outputs": [],
   "source": [
    "import os\n",
    "from imageai.Classification.Custom import ClassificationModelTrainer\n",
    "model_trainer = ClassificationModelTrainer()\n",
    "\n",
    "###  modeli:\n",
    "#MobileNetV2 , ResNet50 , InceptionV3 and DenseNet121\n"
   ]
  },
  {
   "attachments": {
    "image.png": {
     "image/png": "[encoded data removed]"
    }
   },
   "cell_type": "markdown",
   "id": "94bab6fc",
   "metadata": {},
   "source": [
    "Za split u train i test prati ovu strukturu:\n",
    "    \n",
    "![image.png](attachment:image.png)"
   ]
  },
  {
   "cell_type": "markdown",
   "id": "06fbca0b",
   "metadata": {},
   "source": [
    "Ovdje treba i dodati druge klase i onda generisati train i test - pogledaj Immages--->train i images--->test ( i treba odvojiti 20% sliak koje ce se koristiti za predikciju. Isto\n",
    "tako mozes koristiti svoj kod za train, test i new, samo je vazno da za treniranje modela imamo ovo strukturu odozgo."
   ]
  },
  {
   "cell_type": "code",
   "execution_count": null,
   "id": "075b9c09",
   "metadata": {},
   "outputs": [],
   "source": [
    "project_path=os.getcwd().rsplit('\\\\',1)[0]"
   ]
  },
  {
   "cell_type": "code",
   "execution_count": null,
   "id": "d3d412c4",
   "metadata": {},
   "outputs": [],
   "source": [
    "#this cell is obsolete if you run notebook for dividing transformed originals\n",
    "\n",
    "\n",
    "import os\n",
    "import random\n",
    "from sklearn.model_selection import train_test_split\n",
    "from shutil import copyfile\n",
    "import glob\n",
    "# Set the path to your image directory\n",
    "def split_train_test(name):\n",
    "    ###imam folder images i onda podfoldere royanis i spotlightd gdje su sve slike\n",
    "    image_dir = project_path+\"/training_dataset/\"+name+\"/\"\n",
    "    #kreiraj folder train i test i onda podfoldere royanis i spotlight unutar njih\n",
    "    # Set the path to your destination directories for train and test sets\n",
    "    train_dir = project_path+\"/training_dataset/train/\"+name+\"/\"\n",
    "    test_dir = project_path+\"/training_dataset/test/\"+name+\"/\"\n",
    "\n",
    "    # Set the test size (e.g., 0.2 for 20% of the data to be used as the test set)\n",
    "    test_size = 0.2\n",
    "    # Set the path to your test directory\n",
    "\n",
    "# Check if the test directory is empty\n",
    "   \n",
    "    # Get a list of all image file names in the directory\n",
    "    image_files = glob.glob(image_dir + '*.jpeg')  # Adjust the file extension if necessary\n",
    "    if image_files==[]:\n",
    "        image_files = glob.glob(image_dir + '*.png')\n",
    "    #print(image_files)\n",
    "    # Split the image files into train and test sets\n",
    "    train_files, test_files = train_test_split(image_files, test_size=test_size, random_state=42)\n",
    "\n",
    "    # Copy the train files to the train directory\n",
    "    #ako train nije prazan--- kreiraj oba ----> ako izbaci neki error na trainu a kopira slike, isprazni pa pokreni ponovo\n",
    "    \n",
    "    if len(os.listdir(train_dir)) == 0:\n",
    "\n",
    "        for file_name in train_files:\n",
    "            file_namex = file_name.split('\\\\')[-1]\n",
    "            #file_namex = file_name.split('Images/Royanis\\\\')[-1]\n",
    "            #print(file_namex)\n",
    "            #src_path = os.path.join(image_dir, file_namex)\n",
    "            dst_path = os.path.join(train_dir, file_namex)\n",
    "            copyfile(file_name,dst_path)\n",
    "            #dst_path = os.path.join(train_dir, file_namex)\n",
    "            #copyfile(src_path, dst_path)\n",
    "\n",
    "\n",
    "    # Copy the test files to the test directory\n",
    "    \n",
    "        for file_name in test_files:\n",
    "            file_namex = file_name.split('\\\\')[-1]\n",
    "            #file_namex = file_name.split('Images/Royanis\\\\')[-1]\n",
    "            #print(file_namex)\n",
    "            #src_path = os.path.join(image_dir, file_namex)\n",
    "            dst_path = os.path.join(test_dir, file_namex)\n",
    "            copyfile(file_name,dst_path)\n",
    "            #src_path = os.path.join(image_dir, file_name)\n",
    "            #dst_path = os.path.join(test_dir, file_name)\n",
    "           # copyfile(src_path, dst_path)\n",
    "    else:\n",
    "        #print(os.listdir(train_dir))\n",
    "        print(\"Split already created\")"
   ]
  },
  {
   "cell_type": "code",
   "execution_count": null,
   "id": "b3f30b99",
   "metadata": {},
   "outputs": [],
   "source": [
    "#obsolete\n",
    "split_train_test(\"Royanis\")"
   ]
  },
  {
   "cell_type": "code",
   "execution_count": null,
   "id": "bdffb946",
   "metadata": {},
   "outputs": [],
   "source": [
    "#obsolete\n",
    "split_train_test(\"Spotlight\")"
   ]
  },
  {
   "cell_type": "code",
   "execution_count": null,
   "id": "f0b081df",
   "metadata": {},
   "outputs": [],
   "source": [
    "#obsolete\n",
    "split_train_test(\"Royanis2\")"
   ]
  },
  {
   "cell_type": "markdown",
   "id": "e7622096-4778-4f68-b283-2eb4509547a4",
   "metadata": {},
   "source": [
    "#start from here"
   ]
  },
  {
   "cell_type": "markdown",
   "id": "68ff661d",
   "metadata": {},
   "source": [
    "## MobileNetV2"
   ]
  },
  {
   "cell_type": "code",
   "execution_count": null,
   "id": "8daa394c",
   "metadata": {},
   "outputs": [],
   "source": [
    "model_trainer.setModelTypeAsMobileNetV2()"
   ]
  },
  {
   "cell_type": "code",
   "execution_count": null,
   "id": "cbb8738b",
   "metadata": {},
   "outputs": [],
   "source": [
    "model_trainer.setDataDirectory(project_path+\"/training_dataset\")"
   ]
  },
  {
   "cell_type": "markdown",
   "id": "d02e51f6",
   "metadata": {},
   "source": [
    "The best model is automatically saved to <dataset-directory>/models>"
   ]
  },
  {
   "cell_type": "code",
   "execution_count": null,
   "id": "2ab84327",
   "metadata": {},
   "outputs": [],
   "source": [
    "model_trainer.trainModel( num_experiments=30,  batch_size=16,)### znaci da je epoch=50, batch_size=16\n",
    "\n",
    "#epoch mozemo smanjivati radi vremena"
   ]
  },
  {
   "cell_type": "code",
   "execution_count": null,
   "id": "3d0828d1",
   "metadata": {},
   "outputs": [],
   "source": [
    "from imageai.Classification.Custom import CustomImageClassification\n",
    "execution_path = os.getcwd()\n",
    "prediction = CustomImageClassification()"
   ]
  },
  {
   "cell_type": "code",
   "execution_count": null,
   "id": "7f18e00c",
   "metadata": {},
   "outputs": [],
   "source": [
    "print(execution_path)"
   ]
  },
  {
   "cell_type": "code",
   "execution_count": null,
   "id": "904151e1",
   "metadata": {},
   "outputs": [],
   "source": [
    "prediction.setModelTypeAsMobileNetV2()"
   ]
  },
  {
   "cell_type": "code",
   "execution_count": null,
   "id": "68df998d",
   "metadata": {},
   "outputs": [],
   "source": [
    "\n",
    "### za model name vidjeti models folder koji nastane i uzeti taj model i ubaciti u path\n",
    "\n",
    "prediction.setModelPath(os.path.join(execution_path+\"\\images\\models\",\"mobilenet_v2-Images-test_acc_1.00000_epoch-17.pt\"))\n",
    "prediction.setJsonPath(os.path.join(execution_path+\"\\images\\models\", \"Images_model_classes.json\"))\n",
    "prediction.loadModel()\n"
   ]
  },
  {
   "cell_type": "code",
   "execution_count": null,
   "id": "0b9f397e",
   "metadata": {},
   "outputs": [],
   "source": [
    "###eh ovdje mi treba dodatni set novih slika"
   ]
  },
  {
   "cell_type": "code",
   "execution_count": null,
   "id": "bc0fcbaf",
   "metadata": {},
   "outputs": [],
   "source": [
    "predictions, probabilities = prediction.classifyImage(os.path.join(execution_path, \"4.jpg\"), result_count=5)\n",
    "\n",
    "for eachPrediction, eachProbability in zip(predictions, probabilities):\n",
    "    print(eachPrediction , \" : \" , eachProbability)"
   ]
  },
  {
   "cell_type": "markdown",
   "id": "e5c30d12",
   "metadata": {},
   "source": [
    "## ResNet50"
   ]
  },
  {
   "cell_type": "code",
   "execution_count": null,
   "id": "171dba34",
   "metadata": {},
   "outputs": [],
   "source": [
    "#model_trainer2 = ClassificationModelTrainer()\n",
    "model_trainer.setModelTypeAsResNet50()"
   ]
  },
  {
   "cell_type": "code",
   "execution_count": null,
   "id": "443dbe5c",
   "metadata": {},
   "outputs": [],
   "source": [
    "model_trainer.setDataDirectory(project_path+\"/training_dataset\")"
   ]
  },
  {
   "cell_type": "code",
   "execution_count": null,
   "id": "e7f23f30",
   "metadata": {},
   "outputs": [],
   "source": [
    "model_trainer.trainModel( num_experiments=6,  batch_size=16,)### znaci da je epoch=50, batch_size=16"
   ]
  },
  {
   "cell_type": "code",
   "execution_count": null,
   "id": "e1d6388a",
   "metadata": {},
   "outputs": [],
   "source": [
    "prediction2=CustomImageClassification()\n",
    "prediction2.setModelTypeAsResNet50()"
   ]
  },
  {
   "cell_type": "code",
   "execution_count": null,
   "id": "7993e522",
   "metadata": {},
   "outputs": [],
   "source": [
    "##promijeniti model\n",
    "\n",
    "prediction2.setModelPath(os.path.join(execution_path+\"\\images\\models\",\"mobilenet_v2-Images-test_acc_1.00000_epoch-17.pt\"))\n",
    "prediction2.setJsonPath(os.path.join(execution_path+\"\\images\\models\", \"Images_model_classes.json\"))\n",
    "prediction2.loadModel()\n"
   ]
  },
  {
   "cell_type": "code",
   "execution_count": null,
   "id": "fe48d176",
   "metadata": {},
   "outputs": [],
   "source": [
    "predictions2, probabilities2 = prediction2.classifyImage(os.path.join(execution_path, \"4.jpg\"), result_count=5)\n",
    "\n",
    "for eachPrediction, eachProbability in zip(predictions2, probabilities2):\n",
    "    print(eachPrediction , \" : \" , eachProbability)"
   ]
  },
  {
   "cell_type": "markdown",
   "id": "18f44ab5",
   "metadata": {},
   "source": [
    "## InceptionV3"
   ]
  },
  {
   "cell_type": "code",
   "execution_count": null,
   "id": "406b505c",
   "metadata": {},
   "outputs": [],
   "source": [
    "model_trainer.setModelTypeAsInceptionV3()"
   ]
  },
  {
   "cell_type": "code",
   "execution_count": null,
   "id": "647b5f98",
   "metadata": {},
   "outputs": [],
   "source": [
    "model_trainer.setDataDirectory(project_path+\"/training_dataset\")"
   ]
  },
  {
   "cell_type": "code",
   "execution_count": null,
   "id": "a0e552d2",
   "metadata": {},
   "outputs": [],
   "source": [
    "model_trainer.trainModel( num_experiments=6,  batch_size=16,)### znaci da je epoch=50, batch_size=16"
   ]
  },
  {
   "cell_type": "code",
   "execution_count": null,
   "id": "df597d3d",
   "metadata": {},
   "outputs": [],
   "source": [
    "prediction3=CustomImageClassification()\n",
    "prediction3.setModelTypeAsInceptionV3()"
   ]
  },
  {
   "cell_type": "code",
   "execution_count": null,
   "id": "3af857ae",
   "metadata": {},
   "outputs": [],
   "source": [
    "##promijeniti model\n",
    "prediction3.setModelPath(os.path.join(execution_path+\"\\images\\models\",\"mobilenet_v2-Images-test_acc_1.00000_epoch-17.pt\"))\n",
    "prediction3.setJsonPath(os.path.join(execution_path+\"\\images\\models\", \"Images_model_classes.json\"))\n",
    "prediction3.loadModel()\n"
   ]
  },
  {
   "cell_type": "code",
   "execution_count": null,
   "id": "a350a7ea",
   "metadata": {},
   "outputs": [],
   "source": [
    "predictions3, probabilities3 = prediction3.classifyImage(os.path.join(execution_path, \"4.jpg\"), result_count=5)\n",
    "\n",
    "for eachPrediction, eachProbability in zip(predictions3, probabilities3):\n",
    "    print(eachPrediction , \" : \" , eachProbability)"
   ]
  },
  {
   "cell_type": "markdown",
   "id": "7f433d1f",
   "metadata": {},
   "source": [
    "## DenseNet121"
   ]
  },
  {
   "cell_type": "code",
   "execution_count": null,
   "id": "bd7d9550",
   "metadata": {},
   "outputs": [],
   "source": [
    "model_trainer.setModelTypeAsInceptionV3()"
   ]
  },
  {
   "cell_type": "code",
   "execution_count": null,
   "id": "37dd85af",
   "metadata": {},
   "outputs": [],
   "source": [
    "model_trainer.setDataDirectory(project_path+\"/training_dataset\")"
   ]
  },
  {
   "cell_type": "code",
   "execution_count": null,
   "id": "05e2d9d1",
   "metadata": {},
   "outputs": [],
   "source": [
    "model_trainer.trainModel( num_experiments=6,  batch_size=16,)### znaci da je epoch=50, batch_size=16"
   ]
  },
  {
   "cell_type": "code",
   "execution_count": null,
   "id": "880e5dae",
   "metadata": {},
   "outputs": [],
   "source": [
    "prediction3=CustomImageClassification()\n",
    "prediction3.setModelTypeAsInceptionV3()"
   ]
  },
  {
   "cell_type": "code",
   "execution_count": null,
   "id": "9630f192",
   "metadata": {},
   "outputs": [],
   "source": [
    "#promijeniti model na dense ---vidjeti models folder koji se kreira\n",
    "\n",
    "prediction4.setModelPath(os.path.join(execution_path+\"\\images\\models\",\"mobilenet_v2-Images-test_acc_1.00000_epoch-17.pt\"))\n",
    "prediction4.setJsonPath(os.path.join(execution_path+\"\\images\\models\", \"Images_model_classes.json\"))\n",
    "prediction4.loadModel()\n"
   ]
  },
  {
   "cell_type": "code",
   "execution_count": null,
   "id": "7e31f53d",
   "metadata": {},
   "outputs": [],
   "source": [
    "predictions4, probabilities4 = prediction4.classifyImage(os.path.join(execution_path, \"4.jpg\"), result_count=5)\n",
    "\n",
    "for eachPrediction, eachProbability in zip(predictions3, probabilities3):\n",
    "    print(eachPrediction , \" : \" , eachProbability)"
   ]
  },
  {
   "cell_type": "code",
   "execution_count": null,
   "id": "876ddc9e-1288-4802-8705-b8e380b205fc",
   "metadata": {},
   "outputs": [],
   "source": []
  }
 ],
 "metadata": {
  "kernelspec": {
   "display_name": "Python 3 (ipykernel)",
   "language": "python",
   "name": "python3"
  },
  "language_info": {
   "codemirror_mode": {
    "name": "ipython",
    "version": 3
   },
   "file_extension": ".py",
   "mimetype": "text/x-python",
   "name": "python",
   "nbconvert_exporter": "python",
   "pygments_lexer": "ipython3",
   "version": "3.9.16"
  }
 },
 "nbformat": 4,
 "nbformat_minor": 5
}

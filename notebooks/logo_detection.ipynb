{
 "cells": [
  {
   "cell_type": "code",
   "execution_count": null,
   "metadata": {},
   "outputs": [],
   "source": [
    "from PIL import Image, ImageDraw\n",
    "import os\n",
    "import glob\n",
    "import numpy as np\n",
    "import shutil"
   ]
  },
  {
   "cell_type": "markdown",
   "metadata": {},
   "source": [
    "# Check if training set bounding boxes are drawn correctly"
   ]
  },
  {
   "cell_type": "code",
   "execution_count": null,
   "metadata": {},
   "outputs": [],
   "source": [
    "def draw_bbox(image):\n",
    "    \"\"\"\n",
    "    Function reads an image and its corresponding bounding box annotations file,\n",
    "    draws the bounding boxes on the image, and displays it.\n",
    "\n",
    "    Args:\n",
    "        image (str): The filename (with extension) of the image to be processed. \n",
    "                     The image should be stored in the path '../data/logo_detection/images/'.\n",
    "\n",
    "    The corresponding bounding box annotations for the image should be available in the \n",
    "    file with the same name (replacing '.jpg' with '.txt') in the directory '../data/logo_detection/labels/'.\n",
    "\n",
    "    The function reads the bounding box data, where each line in the file has the format:\n",
    "    label x_center y_center width height\n",
    "    (x_center, y_center, width, height) are expressed as ratios of the image width and height.\n",
    "\n",
    "    The bounding boxes are drawn as rectangles on the image using the Pillow library, \n",
    "    with the center, width, and height converted into top-left and bottom-right coordinates.\n",
    "\n",
    "    The image with the drawn bounding boxes is displayed using the Image.show() method.\n",
    "\n",
    "    Example:\n",
    "        draw_bbox('test_image.jpg')\n",
    "        \n",
    "    This would process the image 'test_image.jpg' and its corresponding bounding box annotations \n",
    "    file 'test_image.txt', draw the bounding boxes on the image, and display it.\n",
    "    \"\"\"\n",
    "    \n",
    "    # convert image path to label path\n",
    "    images_dir = '../data/logo_detection/images/'\n",
    "    bboxes_dir = '../data/logo_detection/labels/'\n",
    "    \n",
    "    image_path = images_dir + image\n",
    "    bbox_path = (bboxes_dir + image).replace('.jpg', '.txt')\n",
    "    \n",
    "    # Open the image and create ImageDraw object for drawing\n",
    "    image = Image.open(image_path)\n",
    "    draw = ImageDraw.Draw(image)\n",
    "\n",
    "    with open(bbox_path, 'r') as f:\n",
    "        for line in f.readlines():\n",
    "            # Split the line into five values\n",
    "            label, x, y, w, h = line.split(' ')\n",
    "\n",
    "            # Convert string into float\n",
    "            x = float(x)\n",
    "            y = float(y)\n",
    "            w = float(w)\n",
    "            h = float(h)\n",
    "\n",
    "            # Convert center position, width, height into\n",
    "            # top-left and bottom-right coordinates\n",
    "            W, H = image.size\n",
    "            x1 = (x - w/2) * W\n",
    "            y1 = (y - h/2) * H\n",
    "            x2 = (x + w/2) * W\n",
    "            y2 = (y + h/2) * H\n",
    "\n",
    "            # Draw the bounding box with red lines\n",
    "            draw.rectangle((x1, y1, x2, y2),\n",
    "                           outline=(255, 0, 0), # Red in RGB\n",
    "                           width=1)             # Line width\n",
    "    image.show()"
   ]
  },
  {
   "cell_type": "code",
   "execution_count": null,
   "metadata": {},
   "outputs": [],
   "source": [
    "draw_bbox('32.jpg')"
   ]
  },
  {
   "cell_type": "markdown",
   "metadata": {},
   "source": [
    "# Prepare dir structure for YOLO"
   ]
  },
  {
   "cell_type": "code",
   "execution_count": null,
   "metadata": {},
   "outputs": [],
   "source": [
    "if os.path.exists('../data/logo_detection/'):\n",
    "    for folder in ['images', 'labels']:\n",
    "        for split in ['train', 'val', 'test']:\n",
    "            os.makedirs(f'../data/logo_detection/{folder}/{split}')"
   ]
  },
  {
   "cell_type": "markdown",
   "metadata": {},
   "source": [
    "# Splitting data into Train, Validation and Test sets"
   ]
  },
  {
   "cell_type": "code",
   "execution_count": null,
   "metadata": {},
   "outputs": [],
   "source": [
    "def get_filenames(dir):\n",
    "    filenames = set()\n",
    "    \n",
    "    for path in glob.glob(os.path.join(dir, '*.jpg')):\n",
    "        # Extract the filename\n",
    "        filename = os.path.split(path)[-1]        \n",
    "        filenames.add(filename)\n",
    "\n",
    "    return filenames"
   ]
  },
  {
   "cell_type": "code",
   "execution_count": null,
   "metadata": {},
   "outputs": [],
   "source": [
    "logo_images = get_filenames('../data/logo_detection/images/')\n",
    "logo_images = np.array(list(logo_images))"
   ]
  },
  {
   "cell_type": "markdown",
   "metadata": {},
   "source": [
    "##### Shuffle data"
   ]
  },
  {
   "cell_type": "code",
   "execution_count": null,
   "metadata": {},
   "outputs": [],
   "source": [
    "np.random.seed(42)\n",
    "np.random.shuffle(logo_images)"
   ]
  },
  {
   "cell_type": "markdown",
   "metadata": {},
   "source": [
    "##### Copy images to Training, Validation and Test directories"
   ]
  },
  {
   "cell_type": "code",
   "execution_count": null,
   "metadata": {},
   "outputs": [],
   "source": [
    "def split_dataset(image_names, train_size, val_size):\n",
    "    \"\"\"\n",
    "    This function splits a dataset of images (and their associated bounding box files) into training, \n",
    "    validation, and testing sets, according to the given proportions.\n",
    "\n",
    "    Args:\n",
    "        image_names (list): List of the filenames of the images to be split. \n",
    "                            These should be stored in the path '../data/logo_detection/images/'.\n",
    "\n",
    "        train_size (float): Proportion of the total dataset to be used for training. \n",
    "                            This should be a float between 0.0 and 1.0.\n",
    "\n",
    "        val_size (float): Proportion of the total dataset to be used for validation. \n",
    "                          This should be a float between 0.0 and 1.0.\n",
    "                          The proportion for the testing set is computed as 1 - train_size - val_size.\n",
    "\n",
    "    The function splits the input image filenames into training, validation, and testing sets,\n",
    "    according to the given proportions. \n",
    "\n",
    "    It then copies the images and their corresponding bounding box annotation files \n",
    "    to the appropriate folders (train, val, or test) within '../data/logo_detection/images/' and '../data/logo_detection/labels/'.\n",
    "\n",
    "    If an image does not have an associated bounding box file, it is skipped and not included in the split. \n",
    "    The function prints a message indicating which image was skipped.\n",
    "\n",
    "    Example:\n",
    "        split_dataset(logo_images, train_size = 0.8, val_size = 0.1)\n",
    "        \n",
    "    This would split the list of images 'logo_images' into training, validation, and testing sets\n",
    "    in the proportions 80%, 10%, and 10% respectively, and copy the images and their associated bounding box files to \n",
    "    the corresponding subfolders within '../data/logo_detection/images/' and '../data/logo_detection/labels/'.\n",
    "    \"\"\"\n",
    "    \n",
    "    skipping_counter = 0\n",
    "    train_size = round(len(image_names) * train_size)\n",
    "    val_size = round(len(image_names) * val_size)\n",
    "    test_size = len(image_names) - train_size - val_size\n",
    "    \n",
    "    for i, image_name in enumerate(image_names):\n",
    "        \n",
    "        # Bounding box filename\n",
    "        bbox_name = image_name.replace('.jpg', '.txt')\n",
    "        \n",
    "        # Split into train, val, or test\n",
    "        \n",
    "        if i < train_size:\n",
    "            split = 'train'\n",
    "        elif i < train_size + val_size:\n",
    "            split = 'val'\n",
    "        else:\n",
    "            split = 'test'\n",
    "        \n",
    "        # Source paths\n",
    "        source_image_path = f'../data/logo_detection/images/{image_name}'\n",
    "        source_bbox_path = f'../data/logo_detection/labels/{bbox_name}'\n",
    "\n",
    "        # Destination paths\n",
    "        target_image_folder = f'../data/logo_detection/images/{split}'\n",
    "        target_bbox_folder = f'../data/logo_detection/labels/{split}'\n",
    "        \n",
    "        # Copy files\n",
    "        \n",
    "        try:\n",
    "            shutil.copy(source_bbox_path, target_bbox_folder)\n",
    "            shutil.copy(source_image_path, target_image_folder)\n",
    "        except Exception:\n",
    "            skipping_counter += 1\n",
    "            print(f'image {source_image_path} has no bounding box associated with it.\\nThis image will not be used in training.\\nSkipping...')\n",
    "        \n",
    "    print(f'Skipped {skipping_counter} images due to lack of bounding box.')"
   ]
  },
  {
   "cell_type": "code",
   "execution_count": null,
   "metadata": {},
   "outputs": [],
   "source": [
    "split_dataset(logo_images, train_size = 0.8, val_size = 0.1)"
   ]
  },
  {
   "cell_type": "markdown",
   "metadata": {},
   "source": [
    "# Training model"
   ]
  },
  {
   "cell_type": "markdown",
   "metadata": {},
   "source": [
    "To train the model run\n",
    "\n",
    "python <yolo_PATH>/yolov5/train.py --data custom_logo_training.yaml --weights yolov5x.pt --epochs 300 --batch 64 --freeze 10\n",
    "\n",
    "Edit the number of epochs and batch size as to your needs."
   ]
  }
 ],
 "metadata": {
  "kernelspec": {
   "display_name": "logorecognition",
   "language": "python",
   "name": "python3"
  },
  "language_info": {
   "codemirror_mode": {
    "name": "ipython",
    "version": 3
   },
   "file_extension": ".py",
   "mimetype": "text/x-python",
   "name": "python",
   "nbconvert_exporter": "python",
   "pygments_lexer": "ipython3",
   "version": "3.10.12"
  },
  "orig_nbformat": 4
 },
 "nbformat": 4,
 "nbformat_minor": 2
}
